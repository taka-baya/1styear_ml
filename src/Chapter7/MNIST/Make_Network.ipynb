{
 "cells": [
  {
   "cell_type": "code",
   "execution_count": 1,
   "metadata": {},
   "outputs": [],
   "source": [
    "import torch\n",
    "import torch.nn as nn\n",
    "import torch.nn.functional as F\n",
    "\n",
    "# torch.nn.Moduleによるモデルの定義\n",
    "class Mnist_net(nn.Module):\n",
    "    def __init__(self, INPUT_FEATURES=784, OUTPUT_RESULTS=10):\n",
    "        # 定数（モデル定義時に必要となるもの）\n",
    "        self.INPUT_FEATURES = INPUT_FEATURES# 入力（特徴）の数： 2\n",
    "        self.LAYER1_NEURONS = 256      # ニューロンの数： 256\n",
    "        self.LAYER2_NEURONS = 128      # ニューロンの数： 128\n",
    "        self.OUTPUT_RESULTS = OUTPUT_RESULTS# 出力結果の数： 10\n",
    "\n",
    "        super(Mnist_net, self).__init__()\n",
    "        # 隠れ層：1つ目のレイヤー（layer）\n",
    "        self.layer1 = nn.Linear(\n",
    "            self.INPUT_FEATURES,                # 入力ユニット数：784\n",
    "            self.LAYER1_NEURONS)                # 次のレイヤーの出力ユニット数：256\n",
    "\n",
    "        # 隠れ層：2つ目のレイヤー（layer）\n",
    "        self.layer2 = nn.Linear(\n",
    "            self.LAYER1_NEURONS,                # 入力ユニット数：256\n",
    "            self.LAYER2_NEURONS)                # 次のレイヤーへの出力ユニット数：128\n",
    "\n",
    "        # 出力層\n",
    "        self.layer_out = nn.Linear(\n",
    "            self.LAYER2_NEURONS,                # 入力ユニット数：128\n",
    "            self.OUTPUT_RESULTS)                # 出力結果への出力ユニット数：10\n",
    "\n",
    "    def forward(self, x):\n",
    "        # フィードフォワードを定義\n",
    "        # 「出力＝活性化関数（第n層（入力））」の形式で記述する\n",
    "        x = x.view(-1, 784) # 28×28の配列を784の一次元配列に変換\n",
    "        x = F.relu(self.layer1(x))  # 活性化関数はreluとして定義\n",
    "        x = F.relu(self.layer2(x))  # 同上 \n",
    "        x = F.softmax(self.layer_out(x), dim=1)  # 出力する際はsoftmaxを使用\n",
    "        return x"
   ]
  },
  {
   "cell_type": "code",
   "execution_count": 2,
   "metadata": {},
   "outputs": [
    {
     "name": "stdout",
     "output_type": "stream",
     "text": [
      "Mnist_net(\n",
      "  (layer1): Linear(in_features=784, out_features=256, bias=True)\n",
      "  (layer2): Linear(in_features=256, out_features=128, bias=True)\n",
      "  (layer_out): Linear(in_features=128, out_features=10, bias=True)\n",
      ")\n"
     ]
    }
   ],
   "source": [
    "net = Mnist_net()\n",
    "print(net)"
   ]
  },
  {
   "cell_type": "code",
   "execution_count": null,
   "metadata": {},
   "outputs": [],
   "source": []
  },
  {
   "cell_type": "code",
   "execution_count": 3,
   "metadata": {},
   "outputs": [],
   "source": [
    "# torch.nn.Moduleによるモデルの定義\n",
    "class Mnist_net_test(nn.Module):\n",
    "    def __init__(self, INPUT_FEATURES=784, OUTPUT_RESULTS=10):\n",
    "        print(\"calle class Mnist_net\")"
   ]
  },
  {
   "cell_type": "code",
   "execution_count": 4,
   "metadata": {},
   "outputs": [
    {
     "name": "stdout",
     "output_type": "stream",
     "text": [
      "calle class Mnist_net\n"
     ]
    }
   ],
   "source": [
    "net_test = Mnist_net_test()"
   ]
  },
  {
   "cell_type": "code",
   "execution_count": null,
   "metadata": {},
   "outputs": [],
   "source": []
  }
 ],
 "metadata": {
  "kernelspec": {
   "display_name": "Python 3",
   "language": "python",
   "name": "python3"
  },
  "language_info": {
   "codemirror_mode": {
    "name": "ipython",
    "version": 3
   },
   "file_extension": ".py",
   "mimetype": "text/x-python",
   "name": "python",
   "nbconvert_exporter": "python",
   "pygments_lexer": "ipython3",
   "version": "3.6.5"
  }
 },
 "nbformat": 4,
 "nbformat_minor": 4
}
